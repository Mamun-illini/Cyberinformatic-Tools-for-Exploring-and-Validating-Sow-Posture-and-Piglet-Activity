{
  "nbformat": 4,
  "nbformat_minor": 0,
  "metadata": {
    "colab": {
      "provenance": []
    },
    "kernelspec": {
      "name": "python3",
      "display_name": "Python 3"
    },
    "language_info": {
      "name": "python"
    }
  },
  "cells": [
    {
      "cell_type": "markdown",
      "source": [
        "**Pip Installation**"
      ],
      "metadata": {
        "id": "noOO4ujRMEZ_"
      }
    },
    {
      "cell_type": "code",
      "source": [
        "# Pip install (recommended)\n",
        "!pip install ultralytics"
      ],
      "metadata": {
        "id": "xcCfhBHMMNB1"
      },
      "execution_count": null,
      "outputs": []
    },
    {
      "cell_type": "markdown",
      "source": [
        "**If Google Drive Mounting is Required (Recommended)**\n",
        "\n",
        "Follow this step only when you have your dataset stored in google drive"
      ],
      "metadata": {
        "id": "6W33EscyMSbp"
      }
    },
    {
      "cell_type": "code",
      "source": [
        "## connecting to the google drive (THIS IS FOR MOUNTING FROM GOOGLE DRIVE)\n",
        "from google.colab import drive\n",
        "drive.mount('/content/drive')"
      ],
      "metadata": {
        "id": "nNiy_n27MYuG"
      },
      "execution_count": null,
      "outputs": []
    },
    {
      "cell_type": "markdown",
      "source": [
        "**Training**\n",
        "\n",
        "This is the classification model training part. You will give the path of your dataset (google drive/locally stored) and set other parameters like epochs, image size."
      ],
      "metadata": {
        "id": "MAGoT4rULfJH"
      }
    },
    {
      "cell_type": "code",
      "execution_count": null,
      "metadata": {
        "id": "RLQJ1O4vG4RK"
      },
      "outputs": [],
      "source": [
        "# Import necessary libraries\n",
        "# Ensure you have ultralytics package installed. You can install it using pip:\n",
        "# !pip install ultralytics\n",
        "\n",
        "import os\n",
        "from ultralytics import YOLO\n",
        "\n",
        "# Load a pretrained YOLOv8 classification model\n",
        "\n",
        "model = YOLO(\"yolov8n-cls.pt\")  # load a pretrained model\n",
        "\n",
        "# Create a folder and place the 'train' and 'val' folders inside it.\n",
        "# Example: 'F:/dataset' should contain 'train' and 'val' subfolders.\n",
        "# Provide the path to the folder containing 'train' and 'val' folders below.\n",
        "\n",
        "results = model.train(data=\"F:/dataset\", epochs=10, Imgsz=640)  # train the model\n",
        "\n",
        "# Training parameters:\n",
        "# - data: path to the folder containing 'train' and 'val' subfolders.\n",
        "# - epochs: number of training epochs (10 in this case).\n",
        "# - imgsz: image size to be used during training (640 in this case)"
      ]
    },
    {
      "cell_type": "markdown",
      "source": [
        "**Code for Saving Training Results from Google Drive**"
      ],
      "metadata": {
        "id": "kmeUQ74ELwlv"
      }
    },
    {
      "cell_type": "code",
      "source": [
        "import shutil\n",
        "\n",
        "# Zip the directory\n",
        "shutil.make_archive('/content/runs_archive', 'zip', '/content/runs')\n",
        "\n",
        "# Download the zip file\n",
        "files.download('/content/runs_archive.zip')"
      ],
      "metadata": {
        "id": "a_WXUhjt1tIC"
      },
      "execution_count": null,
      "outputs": []
    },
    {
      "cell_type": "markdown",
      "source": [
        "**Using the Trained Model on New Images for Predict**"
      ],
      "metadata": {
        "id": "vfC5YM3QdXAN"
      }
    },
    {
      "cell_type": "code",
      "source": [
        "import os\n",
        "import cv2\n",
        "from ultralytics import YOLO\n",
        "\n",
        "# Load a pretrained YOLO model for classification\n",
        "# The path should be directed to the trained model, you can choose best.pt or last.pt within the weights folder of your training results\n",
        "model = YOLO(\"C:/Users/best.pt\")\n",
        "\n",
        "# Define the path to the directory containing the images for prediction\n",
        "source = 'C:/Users/Dataset'\n",
        "\n",
        "# Define the path to save the results\n",
        "save_path = 'C:/Users/detect'\n",
        "os.makedirs(save_path, exist_ok=True)\n",
        "\n",
        "# Run inference on the source directory\n",
        "results = model.predict(source=source, save=True, conf=0.55)\n",
        "\n",
        "# Define the font and color\n",
        "font = cv2.FONT_HERSHEY_SIMPLEX\n",
        "font_scale = 0.5  # Smaller font size\n",
        "font_color = (0, 165, 255)  # Orange color in BGR format\n",
        "thickness = 1\n",
        "\n",
        "# Annotate and save the images\n",
        "for r in results:\n",
        "    # Get the image path\n",
        "    image_path = r.path\n",
        "    # Read the image\n",
        "    image = cv2.imread(image_path)\n",
        "    # Get the class probabilities\n",
        "    class_probs = r.probs.data.cpu().numpy()  # Convert to numpy array if needed\n",
        "    # Get the class names\n",
        "    class_names = r.names\n",
        "\n",
        "    # Prepare the label text\n",
        "    label_texts = [f\"{class_name}: {prob:.2f}\" for class_name, prob in zip(class_names, class_probs)]\n",
        "\n",
        "    # Annotate the image with labels\n",
        "    for i, label_text in enumerate(label_texts):\n",
        "        y_position = 30 + i * 20  # Adjust vertical position for each label\n",
        "        cv2.putText(image, label_text, (10, y_position), font, font_scale, font_color, thickness)\n",
        "\n",
        "    # Save the annotated image\n",
        "    result_filename = os.path.basename(image_path)\n",
        "    save_filename = os.path.join(save_path, result_filename)\n",
        "    cv2.imwrite(save_filename, image)\n",
        "\n",
        "# Save the results in text files as well\n",
        "for r in results:\n",
        "    image_path = r.path\n",
        "    class_probs = r.probs.data.cpu().numpy()\n",
        "    class_names = r.names\n",
        "    result_filename = os.path.basename(image_path)\n",
        "    save_filename = os.path.join(save_path, f\"{os.path.splitext(result_filename)[0]}_result.txt\")\n",
        "\n",
        "    with open(save_filename, \"w\") as f:\n",
        "        f.write(f\"Image: {image_path}\\n\")\n",
        "        for class_name, prob in zip(class_names, class_probs):\n",
        "            f.write(f\"{class_name}: {prob:.2f}\\n\")\n",
        "\n",
        "# Display results\n",
        "for r in results:\n",
        "    print(f\"Image: {r.path}\")\n",
        "    for class_name, prob in zip(r.names, r.probs.data.cpu().numpy()):\n",
        "        print(f\"  {class_name}: {prob:.2f}\")"
      ],
      "metadata": {
        "id": "y_SRobN3dPq1"
      },
      "execution_count": null,
      "outputs": []
    }
  ]
}